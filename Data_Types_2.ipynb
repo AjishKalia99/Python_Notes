{
 "cells": [
  {
   "cell_type": "code",
   "execution_count": 1,
   "metadata": {},
   "outputs": [],
   "source": [
    "#Python Data types 2\n",
    "# int,float,str,complex are immutable"
   ]
  },
  {
   "cell_type": "code",
   "execution_count": 2,
   "metadata": {},
   "outputs": [
    {
     "name": "stdout",
     "output_type": "stream",
     "text": [
      "1387710416\n"
     ]
    }
   ],
   "source": [
    "a=10\n",
    "print(id(a))"
   ]
  },
  {
   "cell_type": "code",
   "execution_count": 3,
   "metadata": {},
   "outputs": [
    {
     "name": "stdout",
     "output_type": "stream",
     "text": [
      "1387710416\n"
     ]
    }
   ],
   "source": [
    "b=10\n",
    "print(id(b))"
   ]
  },
  {
   "cell_type": "code",
   "execution_count": 5,
   "metadata": {},
   "outputs": [
    {
     "name": "stdout",
     "output_type": "stream",
     "text": [
      "1387710480\n",
      "1387710416\n"
     ]
    }
   ],
   "source": [
    "#Objects are Re-Usable in Python\n",
    "a=a+1\n",
    "print(id(a))\n",
    "print(id(b))"
   ]
  },
  {
   "cell_type": "code",
   "execution_count": 6,
   "metadata": {},
   "outputs": [],
   "source": [
    "#once we create an object we are not allowed to change the content,in case we try tochange the content..\n",
    "#For that change a new object will be created."
   ]
  },
  {
   "cell_type": "code",
   "execution_count": 7,
   "metadata": {},
   "outputs": [],
   "source": [
    "#Benefits of Immutablity\n",
    "#!) Reusability of objects\n",
    "#2) Performance Increase"
   ]
  },
  {
   "cell_type": "code",
   "execution_count": 10,
   "metadata": {},
   "outputs": [
    {
     "name": "stdout",
     "output_type": "stream",
     "text": [
      "2572981511032\n",
      "2572981511032\n"
     ]
    }
   ],
   "source": [
    "mystr=\"hi\"\n",
    "print(id(mystr))\n",
    "mySTR=\"hi\"\n",
    "print(id(mySTR))"
   ]
  },
  {
   "cell_type": "code",
   "execution_count": 13,
   "metadata": {},
   "outputs": [
    {
     "name": "stdout",
     "output_type": "stream",
     "text": [
      "['one', 'two', 'three', ['four', 'five']]\n"
     ]
    }
   ],
   "source": [
    "#LISTS ARE IMMUTABLE\n",
    "list_one=['one','two','three']\n",
    "list_two=['four','five']\n",
    "list_one.append(list_two)\n",
    "print(list_one)"
   ]
  },
  {
   "cell_type": "code",
   "execution_count": 15,
   "metadata": {},
   "outputs": [
    {
     "name": "stdout",
     "output_type": "stream",
     "text": [
      "['one', 'two', 'three', 'four', 'five']\n"
     ]
    }
   ],
   "source": [
    "list_one=['one','two','three']\n",
    "list_two=['four','five']\n",
    "list_one=list_one+list_two\n",
    "print(list_one)"
   ]
  },
  {
   "cell_type": "code",
   "execution_count": 21,
   "metadata": {},
   "outputs": [
    {
     "name": "stdout",
     "output_type": "stream",
     "text": [
      "2573019529288\n",
      "2573019529288\n",
      "[1, 2, 'now', 4]\n",
      "[1, 2, 'now', 4]\n",
      "[1, 2, 3, 4]\n",
      "[1, 2, 'now', 4]\n"
     ]
    }
   ],
   "source": [
    "list_one=[1,2,3,4]\n",
    "list_two=list_one\n",
    "print(id(list_one))\n",
    "print(id(list_two))\n",
    "#Assignment operator is used as aliasing operator\n",
    "#List_two and List_one point atthe same object\n",
    "list_two[2]='now'\n",
    "print(list_one)\n",
    "print(list_two)\n",
    "list_1=[1,2,3,4]\n",
    "list_2=list_1.copy()\n",
    "list_2[2]='now'\n",
    "print(list_1)\n",
    "print(list_2)\n",
    "#Copy Function makes a new object"
   ]
  },
  {
   "cell_type": "code",
   "execution_count": 26,
   "metadata": {},
   "outputs": [
    {
     "name": "stdout",
     "output_type": "stream",
     "text": [
      "[1, 'haha', ['now', 4], 5]\n",
      "[1, 2, ['now', 4], 5]\n"
     ]
    }
   ],
   "source": [
    "import copy as cp\n",
    "list_1=[1,2,[3,4],5]\n",
    "list_2=cp.copy(list_1)\n",
    "list_1[2][0]='now'\n",
    "list_1[1]=\"haha\"\n",
    "print(list_1)\n",
    "print(list_2)\n",
    "#This is and example of SHALLOW COPY\n",
    "#If original object contains any refrence to mutable objects,Then the duplicate refrence variable will be created pointing\n",
    "# to old contained objects but no duplicate objects get created"
   ]
  },
  {
   "cell_type": "code",
   "execution_count": 29,
   "metadata": {},
   "outputs": [
    {
     "name": "stdout",
     "output_type": "stream",
     "text": [
      "[1, 2, [3, 4], 5]\n",
      "[1, 2, ['now', 4], 5]\n"
     ]
    }
   ],
   "source": [
    "import copy as cp\n",
    "lst1=[1,2,[3,4],5]\n",
    "lst2=cp.deepcopy(lst1)\n",
    "lst2[2][0]='now'\n",
    "print(lst1)\n",
    "print(lst2)\n",
    "#This is an example of DEEP COPY\n",
    "#in deep copy a copy is made of all the refrence objects"
   ]
  },
  {
   "cell_type": "code",
   "execution_count": 33,
   "metadata": {},
   "outputs": [
    {
     "name": "stdout",
     "output_type": "stream",
     "text": [
      "[1, 2, ['now', 4], 5]\n",
      "[1, 2, ['now', 4], 5]\n"
     ]
    }
   ],
   "source": [
    "lst1=[1,2,[3,4],5]\n",
    "lst2=lst1.copy()\n",
    "lst2[2][0]='now'\n",
    "print(lst1)\n",
    "print(lst2)\n",
    "#copy function in the list is Shallow Copy"
   ]
  },
  {
   "cell_type": "code",
   "execution_count": 53,
   "metadata": {},
   "outputs": [
    {
     "name": "stdout",
     "output_type": "stream",
     "text": [
      "<class 'tuple'>\n",
      "<class 'tuple'>\n"
     ]
    }
   ],
   "source": [
    "#TUPLE\n",
    "#Tuple is an immutable list\n",
    "t=()\n",
    "T1=tuple()\n",
    "print(type(t))\n",
    "print(type(T1))"
   ]
  },
  {
   "cell_type": "code",
   "execution_count": 39,
   "metadata": {},
   "outputs": [
    {
     "name": "stdout",
     "output_type": "stream",
     "text": [
      "<class 'list'>\n",
      "<class 'list'>\n"
     ]
    }
   ],
   "source": [
    "T=[]\n",
    "t1=list()\n",
    "print(type(T))\n",
    "print(type(t1))"
   ]
  },
  {
   "cell_type": "code",
   "execution_count": 46,
   "metadata": {},
   "outputs": [
    {
     "name": "stdout",
     "output_type": "stream",
     "text": [
      "(1, (1, 2, 3), [1, 2, 3])\n",
      "(1, (1, 2, 3), ['now', 2, 3])\n"
     ]
    }
   ],
   "source": [
    "t=(1,(1,2,3),[1,2,3])\n",
    "print(t)\n",
    "t[2][0]='now'\n",
    "print(t)"
   ]
  },
  {
   "cell_type": "code",
   "execution_count": 48,
   "metadata": {},
   "outputs": [
    {
     "name": "stdout",
     "output_type": "stream",
     "text": [
      "<class 'int'>\n",
      "<class 'str'>\n"
     ]
    }
   ],
   "source": [
    "t=(1)\n",
    "print(type(t))\n",
    "t=('acadview')\n",
    "print(type(t))"
   ]
  },
  {
   "cell_type": "code",
   "execution_count": 50,
   "metadata": {},
   "outputs": [
    {
     "name": "stdout",
     "output_type": "stream",
     "text": [
      "<class 'tuple'>\n",
      "<class 'tuple'>\n"
     ]
    }
   ],
   "source": [
    "t=(1,)\n",
    "T=1,\n",
    "print(type(t))\n",
    "print(type(T))"
   ]
  },
  {
   "cell_type": "code",
   "execution_count": 54,
   "metadata": {},
   "outputs": [
    {
     "name": "stdout",
     "output_type": "stream",
     "text": [
      "<class 'tuple'>\n"
     ]
    }
   ],
   "source": [
    "t=1,2,3,'acadview','wassap',2.000\n",
    "print(type(t))"
   ]
  },
  {
   "cell_type": "code",
   "execution_count": 62,
   "metadata": {},
   "outputs": [
    {
     "name": "stdout",
     "output_type": "stream",
     "text": [
      "(1, 2, 3, (4, 5), ['hi', 7, 8])\n"
     ]
    }
   ],
   "source": [
    "t=(1,2,3,(4,5),[6,7,8])\n",
    "t[4][0]='hi'\n",
    "print(t)"
   ]
  },
  {
   "cell_type": "code",
   "execution_count": 63,
   "metadata": {},
   "outputs": [
    {
     "name": "stdout",
     "output_type": "stream",
     "text": [
      "(1, 2, 3)\n",
      "('A', 'j', 'i', 's', 'h')\n"
     ]
    }
   ],
   "source": [
    "l=[1,2,3]\n",
    "print(tuple(l))\n",
    "print(tuple('Ajish'))"
   ]
  },
  {
   "cell_type": "code",
   "execution_count": 70,
   "metadata": {},
   "outputs": [
    {
     "name": "stdout",
     "output_type": "stream",
     "text": [
      "2\n",
      "6\n",
      "12\n",
      "1\n",
      "9\n",
      "51\n"
     ]
    }
   ],
   "source": [
    "t=(1,2,3,4,5,6,7,8,9,1,2,3)\n",
    "\n",
    "#count Element\n",
    "print(t.count(1))\n",
    "\n",
    "#index of Element\n",
    "print(t.index(7))\n",
    "\n",
    "#length of tuple\n",
    "print(len(t))\n",
    "\n",
    "#minimum\n",
    "print(min(t))\n",
    "\n",
    "#maximum\n",
    "print(max(t))\n",
    "\n",
    "#sum\n",
    "print(sum(t))\n",
    "\n",
    "del t"
   ]
  },
  {
   "cell_type": "code",
   "execution_count": 1,
   "metadata": {},
   "outputs": [],
   "source": [
    "#SETS\n",
    "#UNordered Collection of Lists\n",
    "#Immutable\n",
    "#NoDuplicates\n",
    "#Pop Fuction Randomly deletes a number\n",
    "#To delete element use delete or discard\n",
    "#could union and intersection"
   ]
  },
  {
   "cell_type": "code",
   "execution_count": 3,
   "metadata": {},
   "outputs": [
    {
     "name": "stdout",
     "output_type": "stream",
     "text": [
      "{1, 2, 3}\n"
     ]
    }
   ],
   "source": [
    "s={1,2,3}\n",
    "print(s)"
   ]
  },
  {
   "cell_type": "code",
   "execution_count": 5,
   "metadata": {},
   "outputs": [
    {
     "name": "stdout",
     "output_type": "stream",
     "text": [
      "{1, 2, 3}\n"
     ]
    }
   ],
   "source": [
    "set1={1,2,3,1}\n",
    "set2={2,3,4}\n",
    "print(set1)"
   ]
  },
  {
   "cell_type": "code",
   "execution_count": 8,
   "metadata": {},
   "outputs": [
    {
     "name": "stdout",
     "output_type": "stream",
     "text": [
      "{1, 2, 3, 6, 9}\n",
      "{1, 2, 3, 6, 9}\n",
      "{3}\n",
      "{3}\n",
      "{1, 2}\n",
      "{1, 2}\n",
      "{1, 2, 6, 9}\n",
      "{1, 2, 6, 9}\n"
     ]
    }
   ],
   "source": [
    "set1={1,2,3}\n",
    "set2={3,6,9}\n",
    "\n",
    "print(set1 | set2)\n",
    "print(set1.union(set2))\n",
    "print(set1 & set2)\n",
    "print(set1.intersection(set2))\n",
    "print(set1-set2)\n",
    "print(set1.difference(set2))\n",
    "print(set1^set2)\n",
    "print(set1.symmetric_difference(set2))\n"
   ]
  },
  {
   "cell_type": "code",
   "execution_count": 11,
   "metadata": {},
   "outputs": [
    {
     "name": "stdout",
     "output_type": "stream",
     "text": [
      "True\n",
      "False\n",
      "False\n"
     ]
    }
   ],
   "source": [
    "set1={'a','b','c','d','e'}\n",
    "set2={'a','c','e'}\n",
    "\n",
    "print(set2.issubset(set1))\n",
    "print(set1.issubset(set2))\n",
    "print(set2.issuperset(set1))"
   ]
  },
  {
   "cell_type": "code",
   "execution_count": 13,
   "metadata": {},
   "outputs": [],
   "source": [
    "#Dictionary\n",
    "#unordered collection of elements\n",
    "#Slicing and indexing is not possible\n",
    "#has key value pair\n",
    "#Key should be unique\n",
    "#key should always be immutable data type"
   ]
  },
  {
   "cell_type": "code",
   "execution_count": 19,
   "metadata": {},
   "outputs": [
    {
     "name": "stdout",
     "output_type": "stream",
     "text": [
      "{1: 'abc', 'burr': 'efg', 3: 'xxx'}\n",
      "efg\n"
     ]
    }
   ],
   "source": [
    "dict1={1:'abc','burr':\"efg\",3:\"xxx\"}\n",
    "print(dict1)\n",
    "print(dict1['burr'])"
   ]
  },
  {
   "cell_type": "code",
   "execution_count": 22,
   "metadata": {},
   "outputs": [
    {
     "name": "stdout",
     "output_type": "stream",
     "text": [
      "{1: 'abc', 'burr': 'lmn', 3: 'xxx', 'wassaaap': 2000}\n",
      "{1: 'abc', 'burr': 'lmn', 3: 'xxx', 'wassaaap': 2000}\n"
     ]
    }
   ],
   "source": [
    "print(dict1)\n",
    "dict1['burr']=\"lmn\"\n",
    "dict1['wassaaap']=2000\n",
    "print(dict1)"
   ]
  },
  {
   "cell_type": "code",
   "execution_count": 31,
   "metadata": {},
   "outputs": [
    {
     "ename": "KeyError",
     "evalue": "'burr'",
     "output_type": "error",
     "traceback": [
      "\u001b[1;31m---------------------------------------------------------------------------\u001b[0m",
      "\u001b[1;31mKeyError\u001b[0m                                  Traceback (most recent call last)",
      "\u001b[1;32m<ipython-input-31-6c55ed555416>\u001b[0m in \u001b[0;36m<module>\u001b[1;34m()\u001b[0m\n\u001b[1;32m----> 1\u001b[1;33m \u001b[1;32mdel\u001b[0m \u001b[0mdict1\u001b[0m\u001b[1;33m[\u001b[0m\u001b[1;34m'burr'\u001b[0m\u001b[1;33m]\u001b[0m\u001b[1;33m\u001b[0m\u001b[0m\n\u001b[0m\u001b[0;32m      2\u001b[0m \u001b[0mprint\u001b[0m\u001b[1;33m(\u001b[0m\u001b[0mdict1\u001b[0m\u001b[1;33m)\u001b[0m\u001b[1;33m\u001b[0m\u001b[0m\n\u001b[0;32m      3\u001b[0m \u001b[0mdict1\u001b[0m\u001b[1;33m.\u001b[0m\u001b[0mclear\u001b[0m\u001b[1;33m(\u001b[0m\u001b[1;33m)\u001b[0m\u001b[1;33m\u001b[0m\u001b[0m\n\u001b[0;32m      4\u001b[0m \u001b[0mprint\u001b[0m\u001b[1;33m(\u001b[0m\u001b[0mdict1\u001b[0m\u001b[1;33m)\u001b[0m\u001b[1;33m\u001b[0m\u001b[0m\n",
      "\u001b[1;31mKeyError\u001b[0m: 'burr'"
     ]
    }
   ],
   "source": [
    "del dict1['burr']\n",
    "print(dict1)\n",
    "dict1.clear()\n",
    "print(dict1)"
   ]
  }
 ],
 "metadata": {
  "kernelspec": {
   "display_name": "Python 3",
   "language": "python",
   "name": "python3"
  },
  "language_info": {
   "codemirror_mode": {
    "name": "ipython",
    "version": 3
   },
   "file_extension": ".py",
   "mimetype": "text/x-python",
   "name": "python",
   "nbconvert_exporter": "python",
   "pygments_lexer": "ipython3",
   "version": "3.6.2"
  }
 },
 "nbformat": 4,
 "nbformat_minor": 2
}
