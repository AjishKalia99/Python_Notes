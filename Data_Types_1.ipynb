{
 "cells": [
  {
   "cell_type": "code",
   "execution_count": 52,
   "metadata": {},
   "outputs": [
    {
     "name": "stdout",
     "output_type": "stream",
     "text": [
      "<class 'int'>\n",
      "<class 'float'>\n",
      "True\n"
     ]
    }
   ],
   "source": [
    "#DATA TYPES\n",
    "\n",
    "\n",
    "a=5\n",
    "print (type(a))\n",
    "print (type(5.0))\n",
    "print (isinstance(a,int))"
   ]
  },
  {
   "cell_type": "code",
   "execution_count": 3,
   "metadata": {},
   "outputs": [
    {
     "name": "stdout",
     "output_type": "stream",
     "text": [
      "4\n"
     ]
    }
   ],
   "source": [
    "a=0b100\n",
    "print(a)"
   ]
  },
  {
   "cell_type": "code",
   "execution_count": 4,
   "metadata": {},
   "outputs": [
    {
     "name": "stdout",
     "output_type": "stream",
     "text": [
      "64\n"
     ]
    }
   ],
   "source": [
    "b=0O100\n",
    "print(b)"
   ]
  },
  {
   "cell_type": "code",
   "execution_count": 5,
   "metadata": {},
   "outputs": [
    {
     "name": "stdout",
     "output_type": "stream",
     "text": [
      "256\n"
     ]
    }
   ],
   "source": [
    "c=0x100\n",
    "print(c)"
   ]
  },
  {
   "cell_type": "code",
   "execution_count": 6,
   "metadata": {},
   "outputs": [
    {
     "name": "stdout",
     "output_type": "stream",
     "text": [
      "64206\n"
     ]
    }
   ],
   "source": [
    "a=0xFace\n",
    "print(a)"
   ]
  },
  {
   "cell_type": "code",
   "execution_count": 7,
   "metadata": {},
   "outputs": [
    {
     "name": "stdout",
     "output_type": "stream",
     "text": [
      "<class 'float'>\n"
     ]
    }
   ],
   "source": [
    "v=10.34\n",
    "print(type(v))"
   ]
  },
  {
   "cell_type": "code",
   "execution_count": 9,
   "metadata": {},
   "outputs": [
    {
     "name": "stdout",
     "output_type": "stream",
     "text": [
      "1.2e+36\n",
      "1.2e-36\n"
     ]
    }
   ],
   "source": [
    "p=1.2e36\n",
    "P=1.2e-36\n",
    "print(p)\n",
    "print(P)"
   ]
  },
  {
   "cell_type": "code",
   "execution_count": 10,
   "metadata": {},
   "outputs": [
    {
     "ename": "SyntaxError",
     "evalue": "invalid syntax (<ipython-input-10-357c29a569bd>, line 1)",
     "output_type": "error",
     "traceback": [
      "\u001b[1;36m  File \u001b[1;32m\"<ipython-input-10-357c29a569bd>\"\u001b[1;36m, line \u001b[1;32m1\u001b[0m\n\u001b[1;33m    a=0b1.1\u001b[0m\n\u001b[1;37m          ^\u001b[0m\n\u001b[1;31mSyntaxError\u001b[0m\u001b[1;31m:\u001b[0m invalid syntax\n"
     ]
    }
   ],
   "source": [
    "#binary,Octal,Hex representation is not possible in float\n",
    "a=0b1.1\n",
    "print(a)\n"
   ]
  },
  {
   "cell_type": "code",
   "execution_count": 14,
   "metadata": {},
   "outputs": [
    {
     "name": "stdout",
     "output_type": "stream",
     "text": [
      "<class 'complex'>\n",
      "(5+16j)\n"
     ]
    }
   ],
   "source": [
    "x=5+16j\n",
    "print(type(x))\n",
    "print(x)"
   ]
  },
  {
   "cell_type": "code",
   "execution_count": 17,
   "metadata": {},
   "outputs": [
    {
     "name": "stdout",
     "output_type": "stream",
     "text": [
      "<class 'complex'>\n",
      "(15+20j)\n",
      "True\n",
      "15.0\n",
      "20.0\n",
      "10.0\n",
      "20.0\n"
     ]
    }
   ],
   "source": [
    "c=10+20j\n",
    "print(type(c))\n",
    "d=c+5\n",
    "print(c+5)\n",
    "print(isinstance(c,complex))\n",
    "print(d.real)\n",
    "print(d.imag)\n",
    "print(c.real)\n",
    "print(c.imag)"
   ]
  },
  {
   "cell_type": "code",
   "execution_count": 22,
   "metadata": {},
   "outputs": [
    {
     "name": "stdout",
     "output_type": "stream",
     "text": [
      "(4+10j)\n"
     ]
    }
   ],
   "source": [
    "b=0b100+10j\n",
    "print(b)\n",
    "#imaginary part is always written in decimal"
   ]
  },
  {
   "cell_type": "code",
   "execution_count": 24,
   "metadata": {},
   "outputs": [
    {
     "name": "stdout",
     "output_type": "stream",
     "text": [
      "<class 'bool'>\n"
     ]
    },
    {
     "ename": "NameError",
     "evalue": "name 'true' is not defined",
     "output_type": "error",
     "traceback": [
      "\u001b[1;31m---------------------------------------------------------------------------\u001b[0m",
      "\u001b[1;31mNameError\u001b[0m                                 Traceback (most recent call last)",
      "\u001b[1;32m<ipython-input-24-feae30b61130>\u001b[0m in \u001b[0;36m<module>\u001b[1;34m()\u001b[0m\n\u001b[0;32m      1\u001b[0m \u001b[0mc\u001b[0m\u001b[1;33m=\u001b[0m\u001b[1;32mTrue\u001b[0m\u001b[1;33m\u001b[0m\u001b[0m\n\u001b[0;32m      2\u001b[0m \u001b[0mprint\u001b[0m\u001b[1;33m(\u001b[0m\u001b[0mtype\u001b[0m\u001b[1;33m(\u001b[0m\u001b[0mc\u001b[0m\u001b[1;33m)\u001b[0m\u001b[1;33m)\u001b[0m\u001b[1;33m\u001b[0m\u001b[0m\n\u001b[1;32m----> 3\u001b[1;33m \u001b[0mb\u001b[0m\u001b[1;33m=\u001b[0m\u001b[0mtrue\u001b[0m\u001b[1;33m\u001b[0m\u001b[0m\n\u001b[0m\u001b[0;32m      4\u001b[0m \u001b[0mprint\u001b[0m\u001b[1;33m(\u001b[0m\u001b[0mtype\u001b[0m\u001b[1;33m(\u001b[0m\u001b[0mb\u001b[0m\u001b[1;33m)\u001b[0m\u001b[1;33m)\u001b[0m\u001b[1;33m\u001b[0m\u001b[0m\n",
      "\u001b[1;31mNameError\u001b[0m: name 'true' is not defined"
     ]
    }
   ],
   "source": [
    "c=True\n",
    "print(type(c))\n",
    "b=true\n",
    "print(type(b))"
   ]
  },
  {
   "cell_type": "code",
   "execution_count": 26,
   "metadata": {},
   "outputs": [
    {
     "name": "stdout",
     "output_type": "stream",
     "text": [
      "<class 'str'>\n",
      "<class 'str'>\n",
      "<class 'str'>\n"
     ]
    }
   ],
   "source": [
    "c='a'\n",
    "print(type(c))\n",
    "s='We are learning Python!'\n",
    "print(type(s))\n",
    "print(type(s))\n",
    "#string is a sequence data type\n",
    "#Python supports both positive and negative indexing\n",
    "#string is immutable"
   ]
  },
  {
   "cell_type": "code",
   "execution_count": 37,
   "metadata": {},
   "outputs": [
    {
     "name": "stdout",
     "output_type": "stream",
     "text": [
      "i\n",
      "Hi There\n",
      "Hi 10\n"
     ]
    }
   ],
   "source": [
    "c='Hi'\n",
    "print(c[1])\n",
    "#indexing starts from 0\n",
    "print(c+' There')\n",
    "#operator overloading possible\n",
    "print(c+' 10')\n",
    "#cannot concat with integers\n",
    "#print(c+10)\n",
    "#cannot concat with integers\n",
    "#print(c[1.0])\n",
    "#indexing can only be integer type\n",
    "#print(c[3])\n",
    "#index must be in range"
   ]
  },
  {
   "cell_type": "code",
   "execution_count": 51,
   "metadata": {},
   "outputs": [
    {
     "name": "stdout",
     "output_type": "stream",
     "text": [
      " WASSAP BABAYYYYYYYY \n",
      " wassap babayyyyyyyy \n",
      "Wassap babayyyyyyyy\n",
      "-1\n",
      " Wassap baby \n",
      "['', 'Wassap', 'babayyyyyyyy', '']\n",
      "['', 'Wassap', 'baby', '']\n",
      "<class 'list'>\n",
      " Wassap baby \n",
      "<class 'str'>\n"
     ]
    }
   ],
   "source": [
    "s=' Wassap babayyyyyyyy '\n",
    "print(s.upper())\n",
    "#converts to UpperCase\n",
    "print(s.lower())\n",
    "#converts to LowerCase\n",
    "print(s.strip())\n",
    "#isalpha()\n",
    "#isdigit()\n",
    "#isspace()\n",
    "#startswith('abc')\n",
    "#endswith('abc')\n",
    "#find('abc')\n",
    "#replace('old','new')\n",
    "print(s.find('baby'))\n",
    "r=s.replace('babayyyyyyyy','baby')\n",
    "print(r)\n",
    "print(s.split(' '))\n",
    "q=r.split(' ')\n",
    "print(q)\n",
    "print(type(q))\n",
    "print(' '.join(q))\n",
    "print(type(' '.join(q)))"
   ]
  },
  {
   "cell_type": "code",
   "execution_count": 69,
   "metadata": {},
   "outputs": [
    {
     "name": "stdout",
     "output_type": "stream",
     "text": [
      "o\n",
      "o\n",
      "ogra\n",
      "pormz\n",
      "progr\n",
      "programiz\n",
      "zimargorp\n"
     ]
    }
   ],
   "source": [
    "s='programiz'\n",
    "print(s[2])\n",
    "print(s[-7])\n",
    "print(s[-7:-3:1])\n",
    "print(s[::2])\n",
    "print(s[:5])\n",
    "print(s[::])\n",
    "print(s[::-1])\n",
    "del s"
   ]
  },
  {
   "cell_type": "code",
   "execution_count": 1,
   "metadata": {},
   "outputs": [
    {
     "name": "stdout",
     "output_type": "stream",
     "text": [
      "shark\n",
      "cuttlefish\n",
      "anemone\n",
      "dolphins\n",
      "starfish\n",
      "********************\n",
      "starfish\n",
      "dolphins\n",
      "anemone\n",
      "cuttlefish\n",
      "shark\n",
      "anemone cuttlefish dolphins shark starfish\n"
     ]
    }
   ],
   "source": [
    "#Lists\n",
    "#sequenced Data Types\n",
    "#Mutable\n",
    "#indexing possible(both positive and negative)\n",
    "sea_creatures=['shark','cuttlefish','anemone','dolphins','starfish']\n",
    "sea_creaturs='whales'\n",
    "print(sea_creatures[0])\n",
    "print(sea_creatures[1])\n",
    "print(sea_creatures[2])\n",
    "print(sea_creatures[3])\n",
    "print(sea_creatures[4])\n",
    "#print(sea_creatures[5])\n",
    "print('*'*20)\n",
    "print(sea_creatures[-1])\n",
    "print(sea_creatures[-2])\n",
    "print(sea_creatures[-3])\n",
    "print(sea_creatures[-4])\n",
    "print(sea_creatures[-5])\n",
    "sea_creatures.sort()\n",
    "print(' '.join(sea_creatures))\n",
    "#LIST FUNCTIONS\n",
    "#l.append()\n",
    "#l.reverse()\n",
    "#l1.extends(l2)\n",
    "#l.index('element')\n",
    "#l.remove(element)\n",
    "#l.count(element)\n",
    "#l.sort()\n",
    "#l.pop(element)"
   ]
  }
 ],
 "metadata": {
  "kernelspec": {
   "display_name": "Python 3",
   "language": "python",
   "name": "python3"
  },
  "language_info": {
   "codemirror_mode": {
    "name": "ipython",
    "version": 3
   },
   "file_extension": ".py",
   "mimetype": "text/x-python",
   "name": "python",
   "nbconvert_exporter": "python",
   "pygments_lexer": "ipython3",
   "version": "3.6.2"
  }
 },
 "nbformat": 4,
 "nbformat_minor": 2
}
