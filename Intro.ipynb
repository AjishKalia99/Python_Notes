{
 "cells": [
  {
   "cell_type": "code",
   "execution_count": 1,
   "metadata": {},
   "outputs": [
    {
     "name": "stdout",
     "output_type": "stream",
     "text": [
      "Hello\n"
     ]
    }
   ],
   "source": [
    "print(\"Hello\")"
   ]
  },
  {
   "cell_type": "code",
   "execution_count": 9,
   "metadata": {},
   "outputs": [
    {
     "name": "stdout",
     "output_type": "stream",
     "text": [
      "Enter a Number 32\n",
      "<class 'int'>\n",
      "User has entered 32 .Thank You.\n"
     ]
    }
   ],
   "source": [
    "num=int(input(\"Enter a Number \"))\n",
    "print(type(num))\n",
    "print(\"User has entered %s .Thank You.\"%num)"
   ]
  },
  {
   "cell_type": "code",
   "execution_count": 15,
   "metadata": {},
   "outputs": [
    {
     "name": "stdout",
     "output_type": "stream",
     "text": [
      "555555\n",
      "5 6 7\n",
      "Python 1 2\n",
      "1,2,3\n",
      "1,2,3!Thank you\n"
     ]
    }
   ],
   "source": [
    "print(\"5\"*6)\n",
    "print(5,6,7)\n",
    "print(\"Python\",1,2)\n",
    "print(1,2,3, sep=\",\")\n",
    "print(1,2,3, sep=\",\",end=\"!\")\n",
    "print(\"Thank you\")"
   ]
  },
  {
   "cell_type": "code",
   "execution_count": 21,
   "metadata": {},
   "outputs": [
    {
     "name": "stdout",
     "output_type": "stream",
     "text": [
      "this line won't get dis\"played\n"
     ]
    }
   ],
   "source": [
    "print(\"this line won't\" ' get dis\"played')"
   ]
  },
  {
   "cell_type": "code",
   "execution_count": null,
   "metadata": {},
   "outputs": [],
   "source": []
  }
 ],
 "metadata": {
  "kernelspec": {
   "display_name": "Python 3",
   "language": "python",
   "name": "python3"
  },
  "language_info": {
   "codemirror_mode": {
    "name": "ipython",
    "version": 3
   },
   "file_extension": ".py",
   "mimetype": "text/x-python",
   "name": "python",
   "nbconvert_exporter": "python",
   "pygments_lexer": "ipython3",
   "version": "3.6.2"
  }
 },
 "nbformat": 4,
 "nbformat_minor": 2
}
